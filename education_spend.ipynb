{
 "cells": [
  {
   "cell_type": "code",
   "execution_count": 1,
   "metadata": {},
   "outputs": [],
   "source": [
    "import requests\n",
    "import json"
   ]
  },
  {
   "cell_type": "code",
   "execution_count": 6,
   "metadata": {},
   "outputs": [
    {
     "name": "stdout",
     "output_type": "stream",
     "text": [
      "indexed : {'date-parts': [[2021, 12, 15]], 'date-time': '2021-12-15T11:13:37Z', 'timestamp': 1639566817178}\n",
      "\n",
      "\n",
      "description : Education spending covers expenditure on schools, universities and other public and private educational institutions. Spending includes instruction and ancillary services for students and families provided through educational institutions. Spending is shown in USD per student and as a percentage of GDP.\n",
      "\n",
      "\n",
      "reference-count : 0\n",
      "\n",
      "\n",
      "publisher : OECD\n",
      "\n",
      "\n",
      "content-domain : {'domain': [], 'crossmark-restriction': False}\n",
      "\n",
      "\n",
      "content-updated : {'date-parts': [[2021, 3, 2]]}\n",
      "\n",
      "\n",
      "DOI : 10.1787/ca274bac-en\n",
      "\n",
      "\n",
      "type : dataset\n",
      "\n",
      "\n",
      "created : {'date-parts': [[2014, 7, 2]], 'date-time': '2014-07-02T12:09:56Z', 'timestamp': 1404302996000}\n",
      "\n",
      "\n",
      "source : Crossref\n",
      "\n",
      "\n",
      "is-referenced-by-count : 3\n",
      "\n",
      "\n",
      "title : Education spending\n",
      "\n",
      "\n",
      "prefix : 10.1787\n",
      "\n",
      "\n",
      "member : 1963\n",
      "\n",
      "\n",
      "content-created : {'date-parts': [[2017, 11, 15]]}\n",
      "\n",
      "\n",
      "container-title : Education resources\n",
      "\n",
      "\n",
      "original-title : []\n",
      "\n",
      "\n",
      "deposited : {'date-parts': [[2021, 3, 3]], 'date-time': '2021-03-03T12:18:29Z', 'timestamp': 1614773909000}\n",
      "\n",
      "\n",
      "score : 1\n",
      "\n",
      "\n",
      "subtitle : []\n",
      "\n",
      "\n",
      "short-title : []\n",
      "\n",
      "\n",
      "issued : {'date-parts': [[2017, 11, 15]]}\n",
      "\n",
      "\n",
      "references-count : 0\n",
      "\n",
      "\n",
      "URL : http://dx.doi.org/10.1787/ca274bac-en\n",
      "\n",
      "\n",
      "relation : {}\n",
      "\n",
      "\n",
      "published : {'date-parts': [[2017, 11, 15]]}\n",
      "\n",
      "\n"
     ]
    }
   ],
   "source": [
    "url = \"https://doi.org/10.1787/ca274bac-en\"\n",
    "headers = {'Accept': 'application/vnd.citationstyles.csl+json;q=1.0'} #Type of response accpeted\n",
    "r = requests.post(url, headers=headers) #POST with headers\n",
    "data = json.loads(r.text)\n",
    "for elem in data:\n",
    "    print(elem,\":\", data[elem])\n",
    "    print('\\n')"
   ]
  },
  {
   "cell_type": "code",
   "execution_count": null,
   "metadata": {},
   "outputs": [],
   "source": []
  }
 ],
 "metadata": {
  "kernelspec": {
   "display_name": "Python 3",
   "language": "python",
   "name": "python3"
  },
  "language_info": {
   "codemirror_mode": {
    "name": "ipython",
    "version": 3
   },
   "file_extension": ".py",
   "mimetype": "text/x-python",
   "name": "python",
   "nbconvert_exporter": "python",
   "pygments_lexer": "ipython3",
   "version": "3.6.5"
  }
 },
 "nbformat": 4,
 "nbformat_minor": 2
}
