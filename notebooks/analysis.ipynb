{
 "cells": [
  {
   "cell_type": "markdown",
   "id": "0c999b0d",
   "metadata": {},
   "source": [
    "Análisis de los datos de educación"
   ]
  },
  {
   "cell_type": "code",
   "execution_count": 1,
   "id": "3383c909",
   "metadata": {},
   "outputs": [
    {
     "name": "stderr",
     "output_type": "stream",
     "text": [
      "Loading required package: carData\n",
      "\n",
      "Attaching package: ‘car’\n",
      "\n",
      "The following object is masked from ‘package:VIF’:\n",
      "\n",
      "    vif\n",
      "\n",
      "Loading required package: zoo\n",
      "\n",
      "Attaching package: ‘zoo’\n",
      "\n",
      "The following objects are masked from ‘package:base’:\n",
      "\n",
      "    as.Date, as.Date.numeric\n",
      "\n"
     ]
    }
   ],
   "source": [
    "library(VIF)\n",
    "library(car)\n",
    "library(lmtest)"
   ]
  },
  {
   "cell_type": "code",
   "execution_count": 2,
   "id": "8681880f",
   "metadata": {},
   "outputs": [
    {
     "data": {
      "text/html": [
       "<table>\n",
       "<thead><tr><th scope=col>LOCATION</th><th scope=col>BUPPSRY.level</th><th scope=col>TRY.level</th><th scope=col>TRY_MEN.level</th><th scope=col>TRY_WOMEN.level</th><th scope=col>UPPSRY.level</th><th scope=col>UPPSRY_MEN.level</th><th scope=col>UPPSRY_WOMEN.level</th><th scope=col>BUPPSRY.spend</th><th scope=col>TRY.spend</th><th scope=col>...</th><th scope=col>UPPSRY_MEN.spend</th><th scope=col>UPPSRY_WOMEN.spend</th><th scope=col>C02</th><th scope=col>count</th><th scope=col>sagree.effective</th><th scope=col>sagree.important</th><th scope=col>sagree.safe</th><th scope=col>sdisagree.effective</th><th scope=col>sdisagree.important</th><th scope=col>sdisagree.safe</th></tr></thead>\n",
       "<tbody>\n",
       "\t<tr><td>ARG        </td><td>36.359135  </td><td>35.66355   </td><td>31.33604   </td><td>39.52976   </td><td>27.97731   </td><td>28.79229   </td><td>27.24921   </td><td>36.359135  </td><td>35.66355   </td><td>...        </td><td>28.79229   </td><td>27.24921   </td><td> 4.0824    </td><td>962        </td><td>0.7297297  </td><td>0.9376299  </td><td>0.7661123  </td><td>0.008316008</td><td>0.006237006</td><td>0.01351351 </td></tr>\n",
       "\t<tr><td>AUS        </td><td>18.108641  </td><td>45.72748   </td><td>40.44161   </td><td>50.83709   </td><td>36.16388   </td><td>41.90353   </td><td>30.61562   </td><td>18.108641  </td><td>45.72748   </td><td>...        </td><td>41.90353   </td><td>30.61562   </td><td>16.7081    </td><td>988        </td><td>0.7155870  </td><td>0.8340081  </td><td>0.6093117  </td><td>0.017206478</td><td>0.018218623</td><td>0.03340081 </td></tr>\n",
       "\t<tr><td>AUT        </td><td>14.702526  </td><td>32.71143   </td><td>33.65686   </td><td>31.76945   </td><td>52.58605   </td><td>55.00523   </td><td>50.17570   </td><td>14.702526  </td><td>32.71143   </td><td>...        </td><td>55.00523   </td><td>50.17570   </td><td> 7.4865    </td><td>942        </td><td>0.4490446  </td><td>0.5859873  </td><td>0.3630573  </td><td>0.031847134</td><td>0.054140127</td><td>0.05891720 </td></tr>\n",
       "\t<tr><td>BEL        </td><td>21.773218  </td><td>40.63855   </td><td>36.94939   </td><td>44.33410   </td><td>37.58824   </td><td>40.41506   </td><td>34.75651   </td><td>21.773218  </td><td>40.63855   </td><td>...        </td><td>40.41506   </td><td>34.75651   </td><td> 8.7289    </td><td>970        </td><td>0.5015464  </td><td>0.6685567  </td><td>0.3938144  </td><td>0.030927835</td><td>0.022680412</td><td>0.06597938 </td></tr>\n",
       "\t<tr><td>BRA        </td><td>46.954311  </td><td>18.43000   </td><td>15.60171   </td><td>20.97796   </td><td>34.61569   </td><td>34.14408   </td><td>35.04055   </td><td>46.954311  </td><td>18.43000   </td><td>...        </td><td>34.14408   </td><td>35.04055   </td><td> 2.3091    </td><td>950        </td><td>0.5747368  </td><td>0.8400000  </td><td>0.6147368  </td><td>0.012631579</td><td>0.002105263</td><td>0.01473684 </td></tr>\n",
       "\t<tr><td>CAN        </td><td> 8.377914  </td><td>57.88836   </td><td>51.31405   </td><td>64.39401   </td><td>33.73372   </td><td>38.88382   </td><td>28.63741   </td><td> 8.377914  </td><td>57.88836   </td><td>...        </td><td>38.88382   </td><td>28.63741   </td><td>15.6299    </td><td>985        </td><td>0.5776650  </td><td>0.7563452  </td><td>0.5309645  </td><td>0.015228426</td><td>0.020304569</td><td>0.02842640 </td></tr>\n",
       "</tbody>\n",
       "</table>\n"
      ],
      "text/latex": [
       "\\begin{tabular}{r|lllllllllllllllllllllll}\n",
       " LOCATION & BUPPSRY.level & TRY.level & TRY\\_MEN.level & TRY\\_WOMEN.level & UPPSRY.level & UPPSRY\\_MEN.level & UPPSRY\\_WOMEN.level & BUPPSRY.spend & TRY.spend & ... & UPPSRY\\_MEN.spend & UPPSRY\\_WOMEN.spend & C02 & count & sagree.effective & sagree.important & sagree.safe & sdisagree.effective & sdisagree.important & sdisagree.safe\\\\\n",
       "\\hline\n",
       "\t ARG         & 36.359135   & 35.66355    & 31.33604    & 39.52976    & 27.97731    & 28.79229    & 27.24921    & 36.359135   & 35.66355    & ...         & 28.79229    & 27.24921    &  4.0824     & 962         & 0.7297297   & 0.9376299   & 0.7661123   & 0.008316008 & 0.006237006 & 0.01351351 \\\\\n",
       "\t AUS         & 18.108641   & 45.72748    & 40.44161    & 50.83709    & 36.16388    & 41.90353    & 30.61562    & 18.108641   & 45.72748    & ...         & 41.90353    & 30.61562    & 16.7081     & 988         & 0.7155870   & 0.8340081   & 0.6093117   & 0.017206478 & 0.018218623 & 0.03340081 \\\\\n",
       "\t AUT         & 14.702526   & 32.71143    & 33.65686    & 31.76945    & 52.58605    & 55.00523    & 50.17570    & 14.702526   & 32.71143    & ...         & 55.00523    & 50.17570    &  7.4865     & 942         & 0.4490446   & 0.5859873   & 0.3630573   & 0.031847134 & 0.054140127 & 0.05891720 \\\\\n",
       "\t BEL         & 21.773218   & 40.63855    & 36.94939    & 44.33410    & 37.58824    & 40.41506    & 34.75651    & 21.773218   & 40.63855    & ...         & 40.41506    & 34.75651    &  8.7289     & 970         & 0.5015464   & 0.6685567   & 0.3938144   & 0.030927835 & 0.022680412 & 0.06597938 \\\\\n",
       "\t BRA         & 46.954311   & 18.43000    & 15.60171    & 20.97796    & 34.61569    & 34.14408    & 35.04055    & 46.954311   & 18.43000    & ...         & 34.14408    & 35.04055    &  2.3091     & 950         & 0.5747368   & 0.8400000   & 0.6147368   & 0.012631579 & 0.002105263 & 0.01473684 \\\\\n",
       "\t CAN         &  8.377914   & 57.88836    & 51.31405    & 64.39401    & 33.73372    & 38.88382    & 28.63741    &  8.377914   & 57.88836    & ...         & 38.88382    & 28.63741    & 15.6299     & 985         & 0.5776650   & 0.7563452   & 0.5309645   & 0.015228426 & 0.020304569 & 0.02842640 \\\\\n",
       "\\end{tabular}\n"
      ],
      "text/markdown": [
       "\n",
       "| LOCATION | BUPPSRY.level | TRY.level | TRY_MEN.level | TRY_WOMEN.level | UPPSRY.level | UPPSRY_MEN.level | UPPSRY_WOMEN.level | BUPPSRY.spend | TRY.spend | ... | UPPSRY_MEN.spend | UPPSRY_WOMEN.spend | C02 | count | sagree.effective | sagree.important | sagree.safe | sdisagree.effective | sdisagree.important | sdisagree.safe |\n",
       "|---|---|---|---|---|---|---|---|---|---|---|---|---|---|---|---|---|---|---|---|---|\n",
       "| ARG         | 36.359135   | 35.66355    | 31.33604    | 39.52976    | 27.97731    | 28.79229    | 27.24921    | 36.359135   | 35.66355    | ...         | 28.79229    | 27.24921    |  4.0824     | 962         | 0.7297297   | 0.9376299   | 0.7661123   | 0.008316008 | 0.006237006 | 0.01351351  |\n",
       "| AUS         | 18.108641   | 45.72748    | 40.44161    | 50.83709    | 36.16388    | 41.90353    | 30.61562    | 18.108641   | 45.72748    | ...         | 41.90353    | 30.61562    | 16.7081     | 988         | 0.7155870   | 0.8340081   | 0.6093117   | 0.017206478 | 0.018218623 | 0.03340081  |\n",
       "| AUT         | 14.702526   | 32.71143    | 33.65686    | 31.76945    | 52.58605    | 55.00523    | 50.17570    | 14.702526   | 32.71143    | ...         | 55.00523    | 50.17570    |  7.4865     | 942         | 0.4490446   | 0.5859873   | 0.3630573   | 0.031847134 | 0.054140127 | 0.05891720  |\n",
       "| BEL         | 21.773218   | 40.63855    | 36.94939    | 44.33410    | 37.58824    | 40.41506    | 34.75651    | 21.773218   | 40.63855    | ...         | 40.41506    | 34.75651    |  8.7289     | 970         | 0.5015464   | 0.6685567   | 0.3938144   | 0.030927835 | 0.022680412 | 0.06597938  |\n",
       "| BRA         | 46.954311   | 18.43000    | 15.60171    | 20.97796    | 34.61569    | 34.14408    | 35.04055    | 46.954311   | 18.43000    | ...         | 34.14408    | 35.04055    |  2.3091     | 950         | 0.5747368   | 0.8400000   | 0.6147368   | 0.012631579 | 0.002105263 | 0.01473684  |\n",
       "| CAN         |  8.377914   | 57.88836    | 51.31405    | 64.39401    | 33.73372    | 38.88382    | 28.63741    |  8.377914   | 57.88836    | ...         | 38.88382    | 28.63741    | 15.6299     | 985         | 0.5776650   | 0.7563452   | 0.5309645   | 0.015228426 | 0.020304569 | 0.02842640  |\n",
       "\n"
      ],
      "text/plain": [
       "  LOCATION BUPPSRY.level TRY.level TRY_MEN.level TRY_WOMEN.level UPPSRY.level\n",
       "1 ARG      36.359135     35.66355  31.33604      39.52976        27.97731    \n",
       "2 AUS      18.108641     45.72748  40.44161      50.83709        36.16388    \n",
       "3 AUT      14.702526     32.71143  33.65686      31.76945        52.58605    \n",
       "4 BEL      21.773218     40.63855  36.94939      44.33410        37.58824    \n",
       "5 BRA      46.954311     18.43000  15.60171      20.97796        34.61569    \n",
       "6 CAN       8.377914     57.88836  51.31405      64.39401        33.73372    \n",
       "  UPPSRY_MEN.level UPPSRY_WOMEN.level BUPPSRY.spend TRY.spend ...\n",
       "1 28.79229         27.24921           36.359135     35.66355  ...\n",
       "2 41.90353         30.61562           18.108641     45.72748  ...\n",
       "3 55.00523         50.17570           14.702526     32.71143  ...\n",
       "4 40.41506         34.75651           21.773218     40.63855  ...\n",
       "5 34.14408         35.04055           46.954311     18.43000  ...\n",
       "6 38.88382         28.63741            8.377914     57.88836  ...\n",
       "  UPPSRY_MEN.spend UPPSRY_WOMEN.spend C02     count sagree.effective\n",
       "1 28.79229         27.24921            4.0824 962   0.7297297       \n",
       "2 41.90353         30.61562           16.7081 988   0.7155870       \n",
       "3 55.00523         50.17570            7.4865 942   0.4490446       \n",
       "4 40.41506         34.75651            8.7289 970   0.5015464       \n",
       "5 34.14408         35.04055            2.3091 950   0.5747368       \n",
       "6 38.88382         28.63741           15.6299 985   0.5776650       \n",
       "  sagree.important sagree.safe sdisagree.effective sdisagree.important\n",
       "1 0.9376299        0.7661123   0.008316008         0.006237006        \n",
       "2 0.8340081        0.6093117   0.017206478         0.018218623        \n",
       "3 0.5859873        0.3630573   0.031847134         0.054140127        \n",
       "4 0.6685567        0.3938144   0.030927835         0.022680412        \n",
       "5 0.8400000        0.6147368   0.012631579         0.002105263        \n",
       "6 0.7563452        0.5309645   0.015228426         0.020304569        \n",
       "  sdisagree.safe\n",
       "1 0.01351351    \n",
       "2 0.03340081    \n",
       "3 0.05891720    \n",
       "4 0.06597938    \n",
       "5 0.01473684    \n",
       "6 0.02842640    "
      ]
     },
     "metadata": {},
     "output_type": "display_data"
    }
   ],
   "source": [
    "#utilizamos el dataset de los NAN's\n",
    "\n",
    "datos_raw<-read.csv(\"target_education_nan.csv\")\n",
    "head(datos_raw)"
   ]
  },
  {
   "cell_type": "code",
   "execution_count": 3,
   "id": "c7d53c0e",
   "metadata": {},
   "outputs": [
    {
     "name": "stdout",
     "output_type": "stream",
     "text": [
      "'data.frame':\t37 obs. of  23 variables:\n",
      " $ LOCATION           : Factor w/ 38 levels \"ARG\",\"AUS\",\"AUT\",..: 1 2 3 4 5 6 7 8 9 10 ...\n",
      " $ BUPPSRY.level      : num  36.4 18.1 14.7 21.8 47 ...\n",
      " $ TRY.level          : num  35.7 45.7 32.7 40.6 18.4 ...\n",
      " $ TRY_MEN.level      : num  31.3 40.4 33.7 36.9 15.6 ...\n",
      " $ TRY_WOMEN.level    : num  39.5 50.8 31.8 44.3 21 ...\n",
      " $ UPPSRY.level       : num  28 36.2 52.6 37.6 34.6 ...\n",
      " $ UPPSRY_MEN.level   : num  28.8 41.9 55 40.4 34.1 ...\n",
      " $ UPPSRY_WOMEN.level : num  27.2 30.6 50.2 34.8 35 ...\n",
      " $ BUPPSRY.spend      : num  36.4 18.1 14.7 21.8 47 ...\n",
      " $ TRY.spend          : num  35.7 45.7 32.7 40.6 18.4 ...\n",
      " $ TRY_MEN.spend      : num  31.3 40.4 33.7 36.9 15.6 ...\n",
      " $ TRY_WOMEN.spend    : num  39.5 50.8 31.8 44.3 21 ...\n",
      " $ UPPSRY.spend       : num  28 36.2 52.6 37.6 34.6 ...\n",
      " $ UPPSRY_MEN.spend   : num  28.8 41.9 55 40.4 34.1 ...\n",
      " $ UPPSRY_WOMEN.spend : num  27.2 30.6 50.2 34.8 35 ...\n",
      " $ C02                : num  4.08 16.71 7.49 8.73 2.31 ...\n",
      " $ count              : num  962 988 942 970 950 985 930 920 949 950 ...\n",
      " $ sagree.effective   : num  0.73 0.716 0.449 0.502 0.575 ...\n",
      " $ sagree.important   : num  0.938 0.834 0.586 0.669 0.84 ...\n",
      " $ sagree.safe        : num  0.766 0.609 0.363 0.394 0.615 ...\n",
      " $ sdisagree.effective: num  0.00832 0.01721 0.03185 0.03093 0.01263 ...\n",
      " $ sdisagree.important: num  0.00624 0.01822 0.05414 0.02268 0.00211 ...\n",
      " $ sdisagree.safe     : num  0.0135 0.0334 0.0589 0.066 0.0147 ...\n",
      " - attr(*, \"na.action\")= 'omit' Named int 22\n",
      "  ..- attr(*, \"names\")= chr \"22\"\n"
     ]
    }
   ],
   "source": [
    "datos<-na.omit(datos_raw);str(datos) #japon\n",
    "#Eliminamos una fila\n",
    "modelo<-lm(BUPPSRY.level~BUPPSRY.spend+TRY.spend+TRY_MEN.spend+TRY_WOMEN.spend+UPPSRY.spend\n",
    "           +UPPSRY_MEN.spend+UPPSRY_WOMEN.spend+C02+sagree.effective+sagree.important\n",
    "           +sagree.safe+sdisagree.effective+sdisagree.important+sdisagree.safe, data=datos)"
   ]
  },
  {
   "cell_type": "code",
   "execution_count": 4,
   "id": "f34429be",
   "metadata": {},
   "outputs": [],
   "source": [
    "#Tomamos como variable objetivo BUPPSRY.level\n"
   ]
  },
  {
   "cell_type": "code",
   "execution_count": 5,
   "id": "d1297474",
   "metadata": {},
   "outputs": [
    {
     "name": "stderr",
     "output_type": "stream",
     "text": [
      "Warning message in summary.lm(modelo):\n",
      "“essentially perfect fit: summary may be unreliable”"
     ]
    },
    {
     "data": {
      "text/plain": [
       "\n",
       "Call:\n",
       "lm(formula = BUPPSRY.level ~ BUPPSRY.spend + TRY.spend + TRY_MEN.spend + \n",
       "    TRY_WOMEN.spend + UPPSRY.spend + UPPSRY_MEN.spend + UPPSRY_WOMEN.spend + \n",
       "    C02 + sagree.effective + sagree.important + sagree.safe + \n",
       "    sdisagree.effective + sdisagree.important + sdisagree.safe, \n",
       "    data = datos)\n",
       "\n",
       "Residuals:\n",
       "       Min         1Q     Median         3Q        Max \n",
       "-7.332e-15 -2.547e-15 -8.669e-16  1.895e-15  2.203e-14 \n",
       "\n",
       "Coefficients: (1 not defined because of singularities)\n",
       "                      Estimate Std. Error    t value Pr(>|t|)    \n",
       "(Intercept)         -2.766e-12  3.020e-12 -9.160e-01    0.369    \n",
       "BUPPSRY.spend        1.000e+00  3.031e-14  3.299e+13   <2e-16 ***\n",
       "TRY.spend            2.270e-14  1.497e-14  1.516e+00    0.143    \n",
       "TRY_MEN.spend        2.669e-15  1.199e-14  2.230e-01    0.826    \n",
       "TRY_WOMEN.spend      2.310e-15  1.208e-14  1.910e-01    0.850    \n",
       "UPPSRY.spend                NA         NA         NA       NA    \n",
       "UPPSRY_MEN.spend     1.438e-14  1.526e-14  9.430e-01    0.356    \n",
       "UPPSRY_WOMEN.spend   1.334e-14  1.498e-14  8.900e-01    0.382    \n",
       "C02                  8.331e-16  3.784e-16  2.202e+00    0.038 *  \n",
       "sagree.effective     2.335e-14  3.133e-14  7.450e-01    0.464    \n",
       "sagree.important    -3.182e-14  2.817e-14 -1.130e+00    0.270    \n",
       "sagree.safe          1.652e-14  2.162e-14  7.640e-01    0.453    \n",
       "sdisagree.effective -2.570e-13  2.179e-13 -1.180e+00    0.250    \n",
       "sdisagree.important -4.941e-14  1.736e-13 -2.850e-01    0.778    \n",
       "sdisagree.safe       1.416e-13  1.160e-13  1.221e+00    0.235    \n",
       "---\n",
       "Signif. codes:  0 ‘***’ 0.001 ‘**’ 0.01 ‘*’ 0.05 ‘.’ 0.1 ‘ ’ 1\n",
       "\n",
       "Residual standard error: 6.171e-15 on 23 degrees of freedom\n",
       "Multiple R-squared:      1,\tAdjusted R-squared:      1 \n",
       "F-statistic: 2.062e+31 on 13 and 23 DF,  p-value: < 2.2e-16\n"
      ]
     },
     "metadata": {},
     "output_type": "display_data"
    }
   ],
   "source": [
    "summary(modelo)"
   ]
  },
  {
   "cell_type": "code",
   "execution_count": 6,
   "id": "62d4f4cb",
   "metadata": {},
   "outputs": [],
   "source": [
    "modelo2<-lm(BUPPSRY.level~BUPPSRY.spend+TRY.spend+TRY_MEN.spend+TRY_WOMEN.spend\n",
    "           +UPPSRY_MEN.spend+UPPSRY_WOMEN.spend+C02+sagree.effective+sagree.important\n",
    "           +sagree.safe+sdisagree.effective+sdisagree.important+sdisagree.safe, data=datos)"
   ]
  },
  {
   "cell_type": "code",
   "execution_count": 7,
   "id": "c78ff81b",
   "metadata": {},
   "outputs": [
    {
     "name": "stdout",
     "output_type": "stream",
     "text": [
      "'data.frame':\t37 obs. of  14 variables:\n",
      " $ BUPPSRY.level      : num  36.4 18.1 14.7 21.8 47 ...\n",
      " $ BUPPSRY.spend      : num  36.4 18.1 14.7 21.8 47 ...\n",
      " $ TRY.spend          : num  35.7 45.7 32.7 40.6 18.4 ...\n",
      " $ TRY_MEN.spend      : num  31.3 40.4 33.7 36.9 15.6 ...\n",
      " $ TRY_WOMEN.spend    : num  39.5 50.8 31.8 44.3 21 ...\n",
      " $ UPPSRY_MEN.spend   : num  28.8 41.9 55 40.4 34.1 ...\n",
      " $ UPPSRY_WOMEN.spend : num  27.2 30.6 50.2 34.8 35 ...\n",
      " $ C02                : num  4.08 16.71 7.49 8.73 2.31 ...\n",
      " $ sagree.effective   : num  0.73 0.716 0.449 0.502 0.575 ...\n",
      " $ sagree.important   : num  0.938 0.834 0.586 0.669 0.84 ...\n",
      " $ sagree.safe        : num  0.766 0.609 0.363 0.394 0.615 ...\n",
      " $ sdisagree.effective: num  0.00832 0.01721 0.03185 0.03093 0.01263 ...\n",
      " $ sdisagree.important: num  0.00624 0.01822 0.05414 0.02268 0.00211 ...\n",
      " $ sdisagree.safe     : num  0.0135 0.0334 0.0589 0.066 0.0147 ...\n"
     ]
    }
   ],
   "source": [
    "datos2<-datos[,c(-1,-3,-4,-5,-6,-7,-8,-13,-17)]\n",
    "str(datos2)"
   ]
  },
  {
   "cell_type": "code",
   "execution_count": 8,
   "id": "deb239e8",
   "metadata": {},
   "outputs": [
    {
     "name": "stderr",
     "output_type": "stream",
     "text": [
      "Warning message in summary.lm(modelo2):\n",
      "“essentially perfect fit: summary may be unreliable”"
     ]
    },
    {
     "data": {
      "text/plain": [
       "\n",
       "Call:\n",
       "lm(formula = BUPPSRY.level ~ BUPPSRY.spend + TRY.spend + TRY_MEN.spend + \n",
       "    TRY_WOMEN.spend + UPPSRY_MEN.spend + UPPSRY_WOMEN.spend + \n",
       "    C02 + sagree.effective + sagree.important + sagree.safe + \n",
       "    sdisagree.effective + sdisagree.important + sdisagree.safe, \n",
       "    data = datos)\n",
       "\n",
       "Residuals:\n",
       "       Min         1Q     Median         3Q        Max \n",
       "-7.332e-15 -2.547e-15 -8.669e-16  1.895e-15  2.203e-14 \n",
       "\n",
       "Coefficients:\n",
       "                      Estimate Std. Error    t value Pr(>|t|)    \n",
       "(Intercept)         -2.766e-12  3.020e-12 -9.160e-01    0.369    \n",
       "BUPPSRY.spend        1.000e+00  3.031e-14  3.299e+13   <2e-16 ***\n",
       "TRY.spend            2.270e-14  1.497e-14  1.516e+00    0.143    \n",
       "TRY_MEN.spend        2.669e-15  1.199e-14  2.230e-01    0.826    \n",
       "TRY_WOMEN.spend      2.310e-15  1.208e-14  1.910e-01    0.850    \n",
       "UPPSRY_MEN.spend     1.438e-14  1.526e-14  9.430e-01    0.356    \n",
       "UPPSRY_WOMEN.spend   1.334e-14  1.498e-14  8.900e-01    0.382    \n",
       "C02                  8.331e-16  3.784e-16  2.202e+00    0.038 *  \n",
       "sagree.effective     2.335e-14  3.133e-14  7.450e-01    0.464    \n",
       "sagree.important    -3.182e-14  2.817e-14 -1.130e+00    0.270    \n",
       "sagree.safe          1.652e-14  2.162e-14  7.640e-01    0.453    \n",
       "sdisagree.effective -2.570e-13  2.179e-13 -1.180e+00    0.250    \n",
       "sdisagree.important -4.941e-14  1.736e-13 -2.850e-01    0.778    \n",
       "sdisagree.safe       1.416e-13  1.160e-13  1.221e+00    0.235    \n",
       "---\n",
       "Signif. codes:  0 ‘***’ 0.001 ‘**’ 0.01 ‘*’ 0.05 ‘.’ 0.1 ‘ ’ 1\n",
       "\n",
       "Residual standard error: 6.171e-15 on 23 degrees of freedom\n",
       "Multiple R-squared:      1,\tAdjusted R-squared:      1 \n",
       "F-statistic: 2.062e+31 on 13 and 23 DF,  p-value: < 2.2e-16\n"
      ]
     },
     "metadata": {},
     "output_type": "display_data"
    }
   ],
   "source": [
    "summary(modelo2)"
   ]
  },
  {
   "cell_type": "markdown",
   "id": "e76bcfb5",
   "metadata": {},
   "source": [
    "Las variables más significativas son BUPPSRY spend, con un nivel de significativo de $\\alpha=0.001$ y los niveles de C02 con un nivel de, al menos, $\\alpha=0.05$."
   ]
  },
  {
   "cell_type": "code",
   "execution_count": 9,
   "id": "b6df1fc3",
   "metadata": {},
   "outputs": [
    {
     "data": {
      "text/html": [
       "<table>\n",
       "<thead><tr><th></th><th scope=col>BUPPSRY.spend</th><th scope=col>TRY.spend</th><th scope=col>TRY_MEN.spend</th><th scope=col>TRY_WOMEN.spend</th><th scope=col>UPPSRY_MEN.spend</th><th scope=col>UPPSRY_WOMEN.spend</th><th scope=col>C02</th><th scope=col>sagree.effective</th><th scope=col>sagree.important</th><th scope=col>sagree.safe</th><th scope=col>sdisagree.effective</th><th scope=col>sdisagree.important</th></tr></thead>\n",
       "<tbody>\n",
       "\t<tr><th scope=row>BUPPSRY.spend</th><td> 1.00000000 </td><td>-0.710231047</td><td>-0.633538267</td><td>-0.720622828</td><td>-0.79394993 </td><td>-0.689697438</td><td>-0.47883628 </td><td> 0.5691580  </td><td> 0.6013695  </td><td> 0.6829862  </td><td> 0.05883488 </td><td>-0.4160281  </td></tr>\n",
       "\t<tr><th scope=row>TRY.spend</th><td>-0.71023105 </td><td> 1.000000000</td><td> 0.949584928</td><td> 0.966705788</td><td> 0.15316316 </td><td> 0.001057125</td><td> 0.60948108 </td><td>-0.3243845  </td><td>-0.2990089  </td><td>-0.4901112  </td><td>-0.19669489 </td><td> 0.1860321  </td></tr>\n",
       "\t<tr><th scope=row>TRY_MEN.spend</th><td>-0.63353827 </td><td> 0.949584928</td><td> 1.000000000</td><td> 0.837986705</td><td> 0.04746563 </td><td>-0.006887309</td><td> 0.59429190 </td><td>-0.3316984  </td><td>-0.3358964  </td><td>-0.4792480  </td><td>-0.19847167 </td><td> 0.2373356  </td></tr>\n",
       "\t<tr><th scope=row>TRY_WOMEN.spend</th><td>-0.72062283 </td><td> 0.966705788</td><td> 0.837986705</td><td> 1.000000000</td><td> 0.22949444 </td><td> 0.007457622</td><td> 0.57950177 </td><td>-0.2876565  </td><td>-0.2416111  </td><td>-0.4628529  </td><td>-0.18329021 </td><td> 0.1277522  </td></tr>\n",
       "\t<tr><th scope=row>UPPSRY_MEN.spend</th><td>-0.79394993 </td><td> 0.153163160</td><td> 0.047465629</td><td> 0.229494444</td><td> 1.00000000 </td><td> 0.917665170</td><td> 0.17747459 </td><td>-0.4753403  </td><td>-0.5412087  </td><td>-0.5200143  </td><td> 0.11962990 </td><td> 0.4072597  </td></tr>\n",
       "\t<tr><th scope=row>UPPSRY_WOMEN.spend</th><td>-0.68969744 </td><td> 0.001057125</td><td>-0.006887309</td><td> 0.007457622</td><td> 0.91766517 </td><td> 1.000000000</td><td> 0.03860346 </td><td>-0.5261004  </td><td>-0.5948862  </td><td>-0.4865840  </td><td> 0.07272611 </td><td> 0.4148936  </td></tr>\n",
       "\t<tr><th scope=row>C02</th><td>-0.47883628 </td><td> 0.609481082</td><td> 0.594291899</td><td> 0.579501771</td><td> 0.17747459 </td><td> 0.038603464</td><td> 1.00000000 </td><td>-0.1168625  </td><td>-0.1643833  </td><td>-0.3254917  </td><td>-0.01994825 </td><td> 0.2778954  </td></tr>\n",
       "\t<tr><th scope=row>sagree.effective</th><td> 0.56915799 </td><td>-0.324384500</td><td>-0.331698444</td><td>-0.287656526</td><td>-0.47534031 </td><td>-0.526100450</td><td>-0.11686253 </td><td> 1.0000000  </td><td> 0.9397261  </td><td> 0.8475043  </td><td>-0.19851298 </td><td>-0.4794652  </td></tr>\n",
       "\t<tr><th scope=row>sagree.important</th><td> 0.60136949 </td><td>-0.299008948</td><td>-0.335896438</td><td>-0.241611107</td><td>-0.54120873 </td><td>-0.594886159</td><td>-0.16438326 </td><td> 0.9397261  </td><td> 1.0000000  </td><td> 0.8391045  </td><td>-0.27612601 </td><td>-0.5996205  </td></tr>\n",
       "\t<tr><th scope=row>sagree.safe</th><td> 0.68298617 </td><td>-0.490111201</td><td>-0.479248043</td><td>-0.462852855</td><td>-0.52001428 </td><td>-0.486583986</td><td>-0.32549166 </td><td> 0.8475043  </td><td> 0.8391045  </td><td> 1.0000000  </td><td>-0.07881050 </td><td>-0.4755855  </td></tr>\n",
       "\t<tr><th scope=row>sdisagree.effective</th><td> 0.05883488 </td><td>-0.196694888</td><td>-0.198471669</td><td>-0.183290214</td><td> 0.11962990 </td><td> 0.072726112</td><td>-0.01994825 </td><td>-0.1985130  </td><td>-0.2761260  </td><td>-0.0788105  </td><td> 1.00000000 </td><td> 0.6561566  </td></tr>\n",
       "\t<tr><th scope=row>sdisagree.important</th><td>-0.41602815 </td><td> 0.186032124</td><td> 0.237335566</td><td> 0.127752203</td><td> 0.40725966 </td><td> 0.414893585</td><td> 0.27789536 </td><td>-0.4794652  </td><td>-0.5996205  </td><td>-0.4755855  </td><td> 0.65615659 </td><td> 1.0000000  </td></tr>\n",
       "</tbody>\n",
       "</table>\n"
      ],
      "text/latex": [
       "\\begin{tabular}{r|llllllllllll}\n",
       "  & BUPPSRY.spend & TRY.spend & TRY\\_MEN.spend & TRY\\_WOMEN.spend & UPPSRY\\_MEN.spend & UPPSRY\\_WOMEN.spend & C02 & sagree.effective & sagree.important & sagree.safe & sdisagree.effective & sdisagree.important\\\\\n",
       "\\hline\n",
       "\tBUPPSRY.spend &  1.00000000  & -0.710231047 & -0.633538267 & -0.720622828 & -0.79394993  & -0.689697438 & -0.47883628  &  0.5691580   &  0.6013695   &  0.6829862   &  0.05883488  & -0.4160281  \\\\\n",
       "\tTRY.spend & -0.71023105  &  1.000000000 &  0.949584928 &  0.966705788 &  0.15316316  &  0.001057125 &  0.60948108  & -0.3243845   & -0.2990089   & -0.4901112   & -0.19669489  &  0.1860321  \\\\\n",
       "\tTRY\\_MEN.spend & -0.63353827  &  0.949584928 &  1.000000000 &  0.837986705 &  0.04746563  & -0.006887309 &  0.59429190  & -0.3316984   & -0.3358964   & -0.4792480   & -0.19847167  &  0.2373356  \\\\\n",
       "\tTRY\\_WOMEN.spend & -0.72062283  &  0.966705788 &  0.837986705 &  1.000000000 &  0.22949444  &  0.007457622 &  0.57950177  & -0.2876565   & -0.2416111   & -0.4628529   & -0.18329021  &  0.1277522  \\\\\n",
       "\tUPPSRY\\_MEN.spend & -0.79394993  &  0.153163160 &  0.047465629 &  0.229494444 &  1.00000000  &  0.917665170 &  0.17747459  & -0.4753403   & -0.5412087   & -0.5200143   &  0.11962990  &  0.4072597  \\\\\n",
       "\tUPPSRY\\_WOMEN.spend & -0.68969744  &  0.001057125 & -0.006887309 &  0.007457622 &  0.91766517  &  1.000000000 &  0.03860346  & -0.5261004   & -0.5948862   & -0.4865840   &  0.07272611  &  0.4148936  \\\\\n",
       "\tC02 & -0.47883628  &  0.609481082 &  0.594291899 &  0.579501771 &  0.17747459  &  0.038603464 &  1.00000000  & -0.1168625   & -0.1643833   & -0.3254917   & -0.01994825  &  0.2778954  \\\\\n",
       "\tsagree.effective &  0.56915799  & -0.324384500 & -0.331698444 & -0.287656526 & -0.47534031  & -0.526100450 & -0.11686253  &  1.0000000   &  0.9397261   &  0.8475043   & -0.19851298  & -0.4794652  \\\\\n",
       "\tsagree.important &  0.60136949  & -0.299008948 & -0.335896438 & -0.241611107 & -0.54120873  & -0.594886159 & -0.16438326  &  0.9397261   &  1.0000000   &  0.8391045   & -0.27612601  & -0.5996205  \\\\\n",
       "\tsagree.safe &  0.68298617  & -0.490111201 & -0.479248043 & -0.462852855 & -0.52001428  & -0.486583986 & -0.32549166  &  0.8475043   &  0.8391045   &  1.0000000   & -0.07881050  & -0.4755855  \\\\\n",
       "\tsdisagree.effective &  0.05883488  & -0.196694888 & -0.198471669 & -0.183290214 &  0.11962990  &  0.072726112 & -0.01994825  & -0.1985130   & -0.2761260   & -0.0788105   &  1.00000000  &  0.6561566  \\\\\n",
       "\tsdisagree.important & -0.41602815  &  0.186032124 &  0.237335566 &  0.127752203 &  0.40725966  &  0.414893585 &  0.27789536  & -0.4794652   & -0.5996205   & -0.4755855   &  0.65615659  &  1.0000000  \\\\\n",
       "\\end{tabular}\n"
      ],
      "text/markdown": [
       "\n",
       "| <!--/--> | BUPPSRY.spend | TRY.spend | TRY_MEN.spend | TRY_WOMEN.spend | UPPSRY_MEN.spend | UPPSRY_WOMEN.spend | C02 | sagree.effective | sagree.important | sagree.safe | sdisagree.effective | sdisagree.important |\n",
       "|---|---|---|---|---|---|---|---|---|---|---|---|---|\n",
       "| BUPPSRY.spend |  1.00000000  | -0.710231047 | -0.633538267 | -0.720622828 | -0.79394993  | -0.689697438 | -0.47883628  |  0.5691580   |  0.6013695   |  0.6829862   |  0.05883488  | -0.4160281   |\n",
       "| TRY.spend | -0.71023105  |  1.000000000 |  0.949584928 |  0.966705788 |  0.15316316  |  0.001057125 |  0.60948108  | -0.3243845   | -0.2990089   | -0.4901112   | -0.19669489  |  0.1860321   |\n",
       "| TRY_MEN.spend | -0.63353827  |  0.949584928 |  1.000000000 |  0.837986705 |  0.04746563  | -0.006887309 |  0.59429190  | -0.3316984   | -0.3358964   | -0.4792480   | -0.19847167  |  0.2373356   |\n",
       "| TRY_WOMEN.spend | -0.72062283  |  0.966705788 |  0.837986705 |  1.000000000 |  0.22949444  |  0.007457622 |  0.57950177  | -0.2876565   | -0.2416111   | -0.4628529   | -0.18329021  |  0.1277522   |\n",
       "| UPPSRY_MEN.spend | -0.79394993  |  0.153163160 |  0.047465629 |  0.229494444 |  1.00000000  |  0.917665170 |  0.17747459  | -0.4753403   | -0.5412087   | -0.5200143   |  0.11962990  |  0.4072597   |\n",
       "| UPPSRY_WOMEN.spend | -0.68969744  |  0.001057125 | -0.006887309 |  0.007457622 |  0.91766517  |  1.000000000 |  0.03860346  | -0.5261004   | -0.5948862   | -0.4865840   |  0.07272611  |  0.4148936   |\n",
       "| C02 | -0.47883628  |  0.609481082 |  0.594291899 |  0.579501771 |  0.17747459  |  0.038603464 |  1.00000000  | -0.1168625   | -0.1643833   | -0.3254917   | -0.01994825  |  0.2778954   |\n",
       "| sagree.effective |  0.56915799  | -0.324384500 | -0.331698444 | -0.287656526 | -0.47534031  | -0.526100450 | -0.11686253  |  1.0000000   |  0.9397261   |  0.8475043   | -0.19851298  | -0.4794652   |\n",
       "| sagree.important |  0.60136949  | -0.299008948 | -0.335896438 | -0.241611107 | -0.54120873  | -0.594886159 | -0.16438326  |  0.9397261   |  1.0000000   |  0.8391045   | -0.27612601  | -0.5996205   |\n",
       "| sagree.safe |  0.68298617  | -0.490111201 | -0.479248043 | -0.462852855 | -0.52001428  | -0.486583986 | -0.32549166  |  0.8475043   |  0.8391045   |  1.0000000   | -0.07881050  | -0.4755855   |\n",
       "| sdisagree.effective |  0.05883488  | -0.196694888 | -0.198471669 | -0.183290214 |  0.11962990  |  0.072726112 | -0.01994825  | -0.1985130   | -0.2761260   | -0.0788105   |  1.00000000  |  0.6561566   |\n",
       "| sdisagree.important | -0.41602815  |  0.186032124 |  0.237335566 |  0.127752203 |  0.40725966  |  0.414893585 |  0.27789536  | -0.4794652   | -0.5996205   | -0.4755855   |  0.65615659  |  1.0000000   |\n",
       "\n"
      ],
      "text/plain": [
       "                    BUPPSRY.spend TRY.spend    TRY_MEN.spend TRY_WOMEN.spend\n",
       "BUPPSRY.spend        1.00000000   -0.710231047 -0.633538267  -0.720622828   \n",
       "TRY.spend           -0.71023105    1.000000000  0.949584928   0.966705788   \n",
       "TRY_MEN.spend       -0.63353827    0.949584928  1.000000000   0.837986705   \n",
       "TRY_WOMEN.spend     -0.72062283    0.966705788  0.837986705   1.000000000   \n",
       "UPPSRY_MEN.spend    -0.79394993    0.153163160  0.047465629   0.229494444   \n",
       "UPPSRY_WOMEN.spend  -0.68969744    0.001057125 -0.006887309   0.007457622   \n",
       "C02                 -0.47883628    0.609481082  0.594291899   0.579501771   \n",
       "sagree.effective     0.56915799   -0.324384500 -0.331698444  -0.287656526   \n",
       "sagree.important     0.60136949   -0.299008948 -0.335896438  -0.241611107   \n",
       "sagree.safe          0.68298617   -0.490111201 -0.479248043  -0.462852855   \n",
       "sdisagree.effective  0.05883488   -0.196694888 -0.198471669  -0.183290214   \n",
       "sdisagree.important -0.41602815    0.186032124  0.237335566   0.127752203   \n",
       "                    UPPSRY_MEN.spend UPPSRY_WOMEN.spend C02        \n",
       "BUPPSRY.spend       -0.79394993      -0.689697438       -0.47883628\n",
       "TRY.spend            0.15316316       0.001057125        0.60948108\n",
       "TRY_MEN.spend        0.04746563      -0.006887309        0.59429190\n",
       "TRY_WOMEN.spend      0.22949444       0.007457622        0.57950177\n",
       "UPPSRY_MEN.spend     1.00000000       0.917665170        0.17747459\n",
       "UPPSRY_WOMEN.spend   0.91766517       1.000000000        0.03860346\n",
       "C02                  0.17747459       0.038603464        1.00000000\n",
       "sagree.effective    -0.47534031      -0.526100450       -0.11686253\n",
       "sagree.important    -0.54120873      -0.594886159       -0.16438326\n",
       "sagree.safe         -0.52001428      -0.486583986       -0.32549166\n",
       "sdisagree.effective  0.11962990       0.072726112       -0.01994825\n",
       "sdisagree.important  0.40725966       0.414893585        0.27789536\n",
       "                    sagree.effective sagree.important sagree.safe\n",
       "BUPPSRY.spend        0.5691580        0.6013695        0.6829862 \n",
       "TRY.spend           -0.3243845       -0.2990089       -0.4901112 \n",
       "TRY_MEN.spend       -0.3316984       -0.3358964       -0.4792480 \n",
       "TRY_WOMEN.spend     -0.2876565       -0.2416111       -0.4628529 \n",
       "UPPSRY_MEN.spend    -0.4753403       -0.5412087       -0.5200143 \n",
       "UPPSRY_WOMEN.spend  -0.5261004       -0.5948862       -0.4865840 \n",
       "C02                 -0.1168625       -0.1643833       -0.3254917 \n",
       "sagree.effective     1.0000000        0.9397261        0.8475043 \n",
       "sagree.important     0.9397261        1.0000000        0.8391045 \n",
       "sagree.safe          0.8475043        0.8391045        1.0000000 \n",
       "sdisagree.effective -0.1985130       -0.2761260       -0.0788105 \n",
       "sdisagree.important -0.4794652       -0.5996205       -0.4755855 \n",
       "                    sdisagree.effective sdisagree.important\n",
       "BUPPSRY.spend        0.05883488         -0.4160281         \n",
       "TRY.spend           -0.19669489          0.1860321         \n",
       "TRY_MEN.spend       -0.19847167          0.2373356         \n",
       "TRY_WOMEN.spend     -0.18329021          0.1277522         \n",
       "UPPSRY_MEN.spend     0.11962990          0.4072597         \n",
       "UPPSRY_WOMEN.spend   0.07272611          0.4148936         \n",
       "C02                 -0.01994825          0.2778954         \n",
       "sagree.effective    -0.19851298         -0.4794652         \n",
       "sagree.important    -0.27612601         -0.5996205         \n",
       "sagree.safe         -0.07881050         -0.4755855         \n",
       "sdisagree.effective  1.00000000          0.6561566         \n",
       "sdisagree.important  0.65615659          1.0000000         "
      ]
     },
     "metadata": {},
     "output_type": "display_data"
    }
   ],
   "source": [
    "cor(datos2[,2:13])"
   ]
  },
  {
   "cell_type": "markdown",
   "id": "f5699247",
   "metadata": {},
   "source": [
    "La matriz de varianzas y covarianzas no presenta valores altos, no sospechamos de colinealidad"
   ]
  },
  {
   "cell_type": "markdown",
   "id": "1b04ef26",
   "metadata": {},
   "source": [
    "Utilizaremos un criterio de significación global para la selección de variables de nuestro modelo. Utilizamos el AIC meidante la función de R"
   ]
  },
  {
   "cell_type": "code",
   "execution_count": 10,
   "id": "441b53a8",
   "metadata": {},
   "outputs": [
    {
     "name": "stdout",
     "output_type": "stream",
     "text": [
      "Start:  AIC=-2410.79\n",
      "BUPPSRY.level ~ BUPPSRY.spend + TRY.spend + TRY_MEN.spend + TRY_WOMEN.spend + \n",
      "    UPPSRY_MEN.spend + UPPSRY_WOMEN.spend + C02 + sagree.effective + \n",
      "    sagree.important + sagree.safe + sdisagree.effective + sdisagree.important + \n",
      "    sdisagree.safe\n",
      "\n"
     ]
    },
    {
     "name": "stderr",
     "output_type": "stream",
     "text": [
      "Warning message:\n",
      "“attempting model selection on an essentially perfect fit is nonsense”"
     ]
    },
    {
     "name": "stdout",
     "output_type": "stream",
     "text": [
      "                      Df Sum of Sq      RSS      AIC\n",
      "- TRY_WOMEN.spend      1  0.000000 0.000000 -2412.73\n",
      "- TRY_MEN.spend        1  0.000000 0.000000 -2412.71\n",
      "- sdisagree.important  1  0.000000 0.000000 -2412.66\n",
      "- sagree.effective     1  0.000000 0.000000 -2411.91\n",
      "- sagree.safe          1  0.000000 0.000000 -2411.87\n",
      "- UPPSRY_WOMEN.spend   1  0.000000 0.000000 -2411.54\n",
      "- UPPSRY_MEN.spend     1  0.000000 0.000000 -2411.39\n",
      "- sagree.important     1  0.000000 0.000000 -2410.79\n",
      "<none>                             0.000000 -2410.79\n",
      "- sdisagree.effective  1  0.000000 0.000000 -2410.62\n",
      "- sdisagree.safe       1  0.000000 0.000000 -2410.47\n",
      "- TRY.spend            1  0.000000 0.000000 -2409.27\n",
      "- C02                  1  0.000000 0.000000 -2405.72\n",
      "- BUPPSRY.spend        1  0.041439 0.041439  -225.39\n",
      "\n",
      "Step:  AIC=-2412.73\n",
      "BUPPSRY.level ~ BUPPSRY.spend + TRY.spend + TRY_MEN.spend + UPPSRY_MEN.spend + \n",
      "    UPPSRY_WOMEN.spend + C02 + sagree.effective + sagree.important + \n",
      "    sagree.safe + sdisagree.effective + sdisagree.important + \n",
      "    sdisagree.safe\n",
      "\n"
     ]
    },
    {
     "name": "stderr",
     "output_type": "stream",
     "text": [
      "Warning message:\n",
      "“attempting model selection on an essentially perfect fit is nonsense”"
     ]
    },
    {
     "name": "stdout",
     "output_type": "stream",
     "text": [
      "                      Df Sum of Sq     RSS      AIC\n",
      "- sdisagree.important  1   0.00000 0.00000 -2414.51\n",
      "- TRY_MEN.spend        1   0.00000 0.00000 -2414.24\n",
      "- sagree.safe          1   0.00000 0.00000 -2413.86\n",
      "- sagree.effective     1   0.00000 0.00000 -2413.49\n",
      "- sagree.important     1   0.00000 0.00000 -2412.76\n",
      "<none>                             0.00000 -2412.73\n",
      "- sdisagree.effective  1   0.00000 0.00000 -2412.40\n",
      "- sdisagree.safe       1   0.00000 0.00000 -2412.40\n",
      "- UPPSRY_WOMEN.spend   1   0.00000 0.00000 -2411.44\n",
      "- TRY.spend            1   0.00000 0.00000 -2411.27\n",
      "- UPPSRY_MEN.spend     1   0.00000 0.00000 -2411.08\n",
      "- C02                  1   0.00000 0.00000 -2407.57\n",
      "- BUPPSRY.spend        1   0.16778 0.16778  -175.65\n",
      "\n",
      "Step:  AIC=-2414.51\n",
      "BUPPSRY.level ~ BUPPSRY.spend + TRY.spend + TRY_MEN.spend + UPPSRY_MEN.spend + \n",
      "    UPPSRY_WOMEN.spend + C02 + sagree.effective + sagree.important + \n",
      "    sagree.safe + sdisagree.effective + sdisagree.safe\n",
      "\n"
     ]
    },
    {
     "name": "stderr",
     "output_type": "stream",
     "text": [
      "Warning message:\n",
      "“attempting model selection on an essentially perfect fit is nonsense”"
     ]
    },
    {
     "name": "stdout",
     "output_type": "stream",
     "text": [
      "                      Df Sum of Sq     RSS      AIC\n",
      "- TRY_MEN.spend        1   0.00000 0.00000 -2416.09\n",
      "- sagree.safe          1   0.00000 0.00000 -2415.58\n",
      "- sagree.effective     1   0.00000 0.00000 -2415.41\n",
      "- sagree.important     1   0.00000 0.00000 -2414.73\n",
      "<none>                             0.00000 -2414.51\n",
      "- sdisagree.safe       1   0.00000 0.00000 -2414.36\n",
      "- UPPSRY_WOMEN.spend   1   0.00000 0.00000 -2413.33\n",
      "- TRY.spend            1   0.00000 0.00000 -2413.14\n",
      "- sdisagree.effective  1   0.00000 0.00000 -2413.00\n",
      "- UPPSRY_MEN.spend     1   0.00000 0.00000 -2412.96\n",
      "- C02                  1   0.00000 0.00000 -2409.57\n",
      "- BUPPSRY.spend        1   0.16833 0.16833  -177.53\n",
      "\n",
      "Step:  AIC=-2416.09\n",
      "BUPPSRY.level ~ BUPPSRY.spend + TRY.spend + UPPSRY_MEN.spend + \n",
      "    UPPSRY_WOMEN.spend + C02 + sagree.effective + sagree.important + \n",
      "    sagree.safe + sdisagree.effective + sdisagree.safe\n",
      "\n"
     ]
    },
    {
     "name": "stderr",
     "output_type": "stream",
     "text": [
      "Warning message:\n",
      "“attempting model selection on an essentially perfect fit is nonsense”"
     ]
    },
    {
     "name": "stdout",
     "output_type": "stream",
     "text": [
      "                      Df Sum of Sq    RSS      AIC\n",
      "- sagree.safe          1    0.0000 0.0000 -2417.23\n",
      "- sagree.effective     1    0.0000 0.0000 -2416.14\n",
      "<none>                             0.0000 -2416.09\n",
      "- sdisagree.safe       1    0.0000 0.0000 -2416.03\n",
      "- UPPSRY_WOMEN.spend   1    0.0000 0.0000 -2415.29\n",
      "- sagree.important     1    0.0000 0.0000 -2415.15\n",
      "- TRY.spend            1    0.0000 0.0000 -2415.12\n",
      "- UPPSRY_MEN.spend     1    0.0000 0.0000 -2414.96\n",
      "- sdisagree.effective  1    0.0000 0.0000 -2414.91\n",
      "- C02                  1    0.0000 0.0000 -2410.15\n",
      "- BUPPSRY.spend        1    0.1843 0.1843  -176.18\n",
      "\n",
      "Step:  AIC=-2417.23\n",
      "BUPPSRY.level ~ BUPPSRY.spend + TRY.spend + UPPSRY_MEN.spend + \n",
      "    UPPSRY_WOMEN.spend + C02 + sagree.effective + sagree.important + \n",
      "    sdisagree.effective + sdisagree.safe\n",
      "\n"
     ]
    },
    {
     "name": "stderr",
     "output_type": "stream",
     "text": [
      "Warning message:\n",
      "“attempting model selection on an essentially perfect fit is nonsense”"
     ]
    },
    {
     "name": "stdout",
     "output_type": "stream",
     "text": [
      "                      Df Sum of Sq     RSS      AIC\n",
      "- sdisagree.safe       1   0.00000 0.00000 -2417.99\n",
      "<none>                             0.00000 -2417.23\n",
      "- sagree.important     1   0.00000 0.00000 -2416.92\n",
      "- sdisagree.effective  1   0.00000 0.00000 -2416.89\n",
      "- sagree.effective     1   0.00000 0.00000 -2415.04\n",
      "- UPPSRY_WOMEN.spend   1   0.00000 0.00000 -2414.07\n",
      "- TRY.spend            1   0.00000 0.00000 -2413.96\n",
      "- UPPSRY_MEN.spend     1   0.00000 0.00000 -2413.85\n",
      "- C02                  1   0.00000 0.00000 -2411.97\n",
      "- BUPPSRY.spend        1   0.22751 0.22751  -170.38\n",
      "\n",
      "Step:  AIC=-2417.99\n",
      "BUPPSRY.level ~ BUPPSRY.spend + TRY.spend + UPPSRY_MEN.spend + \n",
      "    UPPSRY_WOMEN.spend + C02 + sagree.effective + sagree.important + \n",
      "    sdisagree.effective\n",
      "\n"
     ]
    },
    {
     "name": "stderr",
     "output_type": "stream",
     "text": [
      "Warning message:\n",
      "“attempting model selection on an essentially perfect fit is nonsense”"
     ]
    },
    {
     "name": "stdout",
     "output_type": "stream",
     "text": [
      "                      Df Sum of Sq    RSS      AIC\n",
      "- sdisagree.effective  1    0.0000 0.0000 -2418.89\n",
      "<none>                             0.0000 -2417.99\n",
      "- sagree.important     1    0.0000 0.0000 -2417.78\n",
      "- sagree.effective     1    0.0000 0.0000 -2416.11\n",
      "- UPPSRY_WOMEN.spend   1    0.0000 0.0000 -2415.73\n",
      "- TRY.spend            1    0.0000 0.0000 -2415.64\n",
      "- UPPSRY_MEN.spend     1    0.0000 0.0000 -2415.55\n",
      "- C02                  1    0.0000 0.0000 -2412.79\n",
      "- BUPPSRY.spend        1    0.2396 0.2396  -170.47\n",
      "\n",
      "Step:  AIC=-2418.89\n",
      "BUPPSRY.level ~ BUPPSRY.spend + TRY.spend + UPPSRY_MEN.spend + \n",
      "    UPPSRY_WOMEN.spend + C02 + sagree.effective + sagree.important\n",
      "\n"
     ]
    },
    {
     "name": "stderr",
     "output_type": "stream",
     "text": [
      "Warning message:\n",
      "“attempting model selection on an essentially perfect fit is nonsense”"
     ]
    },
    {
     "name": "stdout",
     "output_type": "stream",
     "text": [
      "                     Df Sum of Sq     RSS     AIC\n",
      "- sagree.important    1   0.00000 0.00000 -2419.5\n",
      "<none>                            0.00000 -2418.9\n",
      "- sagree.effective    1   0.00000 0.00000 -2417.7\n",
      "- UPPSRY_WOMEN.spend  1   0.00000 0.00000 -2417.6\n",
      "- TRY.spend           1   0.00000 0.00000 -2417.6\n",
      "- UPPSRY_MEN.spend    1   0.00000 0.00000 -2417.5\n",
      "- C02                 1   0.00000 0.00000 -2414.4\n",
      "- BUPPSRY.spend       1   0.27778 0.27778  -167.0\n",
      "\n",
      "Step:  AIC=-2419.51\n",
      "BUPPSRY.level ~ BUPPSRY.spend + TRY.spend + UPPSRY_MEN.spend + \n",
      "    UPPSRY_WOMEN.spend + C02 + sagree.effective\n",
      "\n"
     ]
    },
    {
     "name": "stderr",
     "output_type": "stream",
     "text": [
      "Warning message:\n",
      "“attempting model selection on an essentially perfect fit is nonsense”"
     ]
    },
    {
     "name": "stdout",
     "output_type": "stream",
     "text": [
      "                     Df Sum of Sq     RSS      AIC\n",
      "<none>                            0.00000 -2419.51\n",
      "- sagree.effective    1   0.00000 0.00000 -2418.76\n",
      "- UPPSRY_WOMEN.spend  1   0.00000 0.00000 -2418.43\n",
      "- TRY.spend           1   0.00000 0.00000 -2418.39\n",
      "- UPPSRY_MEN.spend    1   0.00000 0.00000 -2418.33\n",
      "- C02                 1   0.00000 0.00000 -2413.97\n",
      "- BUPPSRY.spend       1   0.27795 0.27795  -168.98\n"
     ]
    },
    {
     "data": {
      "text/plain": [
       "\n",
       "Call:\n",
       "lm(formula = BUPPSRY.level ~ BUPPSRY.spend + TRY.spend + UPPSRY_MEN.spend + \n",
       "    UPPSRY_WOMEN.spend + C02 + sagree.effective, data = datos)\n",
       "\n",
       "Coefficients:\n",
       "       (Intercept)       BUPPSRY.spend           TRY.spend    UPPSRY_MEN.spend  \n",
       "        -1.804e-12           1.000e+00           1.783e-14           9.051e-15  \n",
       "UPPSRY_WOMEN.spend                 C02    sagree.effective  \n",
       "         8.871e-15           8.554e-16           1.414e-14  \n"
      ]
     },
     "metadata": {},
     "output_type": "display_data"
    }
   ],
   "source": [
    "step(modelo2)"
   ]
  },
  {
   "cell_type": "markdown",
   "id": "3096ff82",
   "metadata": {},
   "source": [
    "El modelo más verosímil es aquel que se queda con las variables: BUPPSRY.spend, TRY.spend, UPPSRY_MEN.spend, CO2 y BUPPSRY.spend. "
   ]
  },
  {
   "cell_type": "code",
   "execution_count": 11,
   "id": "4bba66bf",
   "metadata": {},
   "outputs": [],
   "source": [
    "model_ver<-lm(BUPPSRY.level~sagree.effective+UPPSRY_WOMEN.spend+TRY.spend+UPPSRY_MEN.spend+C02+BUPPSRY.spend,\n",
    "             data=datos2)"
   ]
  },
  {
   "cell_type": "code",
   "execution_count": 12,
   "id": "98b5febe",
   "metadata": {},
   "outputs": [
    {
     "name": "stderr",
     "output_type": "stream",
     "text": [
      "Warning message in summary.lm(model_ver):\n",
      "“essentially perfect fit: summary may be unreliable”"
     ]
    },
    {
     "data": {
      "text/plain": [
       "\n",
       "Call:\n",
       "lm(formula = BUPPSRY.level ~ sagree.effective + UPPSRY_WOMEN.spend + \n",
       "    TRY.spend + UPPSRY_MEN.spend + C02 + BUPPSRY.spend, data = datos2)\n",
       "\n",
       "Residuals:\n",
       "       Min         1Q     Median         3Q        Max \n",
       "-7.906e-17 -4.122e-18  1.689e-18  8.663e-18  3.766e-17 \n",
       "\n",
       "Coefficients:\n",
       "                     Estimate Std. Error    t value Pr(>|t|)    \n",
       "(Intercept)        -1.630e-14  3.809e-15 -4.280e+00 0.000176 ***\n",
       "sagree.effective   -4.546e-15  3.216e-17 -1.414e+02  < 2e-16 ***\n",
       "UPPSRY_WOMEN.spend  3.638e-17  1.901e-17  1.914e+00 0.065218 .  \n",
       "TRY.spend           2.061e-16  3.799e-17  5.426e+00 7.00e-06 ***\n",
       "UPPSRY_MEN.spend    1.246e-16  1.909e-17  6.526e+00 3.24e-07 ***\n",
       "C02                 3.922e-19  1.136e-18  3.450e-01 0.732427    \n",
       "BUPPSRY.spend       1.000e+00  3.807e-17  2.627e+16  < 2e-16 ***\n",
       "---\n",
       "Signif. codes:  0 ‘***’ 0.001 ‘**’ 0.01 ‘*’ 0.05 ‘.’ 0.1 ‘ ’ 1\n",
       "\n",
       "Residual standard error: 2.007e-17 on 30 degrees of freedom\n",
       "Multiple R-squared:      1,\tAdjusted R-squared:      1 \n",
       "F-statistic: 4.225e+36 on 6 and 30 DF,  p-value: < 2.2e-16\n"
      ]
     },
     "metadata": {},
     "output_type": "display_data"
    }
   ],
   "source": [
    "summary(model_ver)"
   ]
  },
  {
   "cell_type": "code",
   "execution_count": 93,
   "id": "827f5c93",
   "metadata": {},
   "outputs": [
    {
     "data": {
      "text/html": [
       "<ol class=list-inline>\n",
       "\t<li>1</li>\n",
       "\t<li>2</li>\n",
       "\t<li>5</li>\n",
       "\t<li>6</li>\n",
       "\t<li>7</li>\n",
       "\t<li>9</li>\n",
       "\t<li>10</li>\n",
       "\t<li>12</li>\n",
       "\t<li>13</li>\n",
       "\t<li>15</li>\n",
       "\t<li>17</li>\n",
       "\t<li>18</li>\n",
       "\t<li>19</li>\n",
       "\t<li>20</li>\n",
       "\t<li>21</li>\n",
       "\t<li>22</li>\n",
       "\t<li>23</li>\n",
       "\t<li>24</li>\n",
       "\t<li>25</li>\n",
       "\t<li>26</li>\n",
       "\t<li>28</li>\n",
       "\t<li>30</li>\n",
       "\t<li>31</li>\n",
       "\t<li>32</li>\n",
       "\t<li>33</li>\n",
       "\t<li>34</li>\n",
       "\t<li>35</li>\n",
       "\t<li>36</li>\n",
       "\t<li>37</li>\n",
       "</ol>\n"
      ],
      "text/latex": [
       "\\begin{enumerate*}\n",
       "\\item 1\n",
       "\\item 2\n",
       "\\item 5\n",
       "\\item 6\n",
       "\\item 7\n",
       "\\item 9\n",
       "\\item 10\n",
       "\\item 12\n",
       "\\item 13\n",
       "\\item 15\n",
       "\\item 17\n",
       "\\item 18\n",
       "\\item 19\n",
       "\\item 20\n",
       "\\item 21\n",
       "\\item 22\n",
       "\\item 23\n",
       "\\item 24\n",
       "\\item 25\n",
       "\\item 26\n",
       "\\item 28\n",
       "\\item 30\n",
       "\\item 31\n",
       "\\item 32\n",
       "\\item 33\n",
       "\\item 34\n",
       "\\item 35\n",
       "\\item 36\n",
       "\\item 37\n",
       "\\end{enumerate*}\n"
      ],
      "text/markdown": [
       "1. 1\n",
       "2. 2\n",
       "3. 5\n",
       "4. 6\n",
       "5. 7\n",
       "6. 9\n",
       "7. 10\n",
       "8. 12\n",
       "9. 13\n",
       "10. 15\n",
       "11. 17\n",
       "12. 18\n",
       "13. 19\n",
       "14. 20\n",
       "15. 21\n",
       "16. 22\n",
       "17. 23\n",
       "18. 24\n",
       "19. 25\n",
       "20. 26\n",
       "21. 28\n",
       "22. 30\n",
       "23. 31\n",
       "24. 32\n",
       "25. 33\n",
       "26. 34\n",
       "27. 35\n",
       "28. 36\n",
       "29. 37\n",
       "\n",
       "\n"
      ],
      "text/plain": [
       " [1]  1  2  5  6  7  9 10 12 13 15 17 18 19 20 21 22 23 24 25 26 28 30 31 32 33\n",
       "[26] 34 35 36 37"
      ]
     },
     "metadata": {},
     "output_type": "display_data"
    }
   ],
   "source": [
    "leverage<-round(hat(model.matrix(model_ver)),3)\n",
    "n<-length(datos2$BUPPSRY.level)\n",
    "#Nuestros candidatos a puntos influyentes\n",
    "which(leverage>=4/n)"
   ]
  },
  {
   "cell_type": "code",
   "execution_count": 100,
   "id": "98a9c21e",
   "metadata": {},
   "outputs": [
    {
     "data": {
      "text/html": [
       "<strong>7:</strong> 7"
      ],
      "text/latex": [
       "\\textbf{7:} 7"
      ],
      "text/markdown": [
       "**7:** 7"
      ],
      "text/plain": [
       "7 \n",
       "7 "
      ]
     },
     "metadata": {},
     "output_type": "display_data"
    }
   ],
   "source": [
    "l<-cooks.distance(model_ver)\n",
    "nvaria<-ncol(datos2)-1 #numero de variables explicativas\n",
    "f<-qf(0.5,nvaria,n-nvaria)\n",
    "which(l>f)\n"
   ]
  },
  {
   "cell_type": "code",
   "execution_count": 15,
   "id": "ac7a20b9",
   "metadata": {},
   "outputs": [],
   "source": [
    "#el punto 7 es un punto influyente"
   ]
  },
  {
   "cell_type": "code",
   "execution_count": 41,
   "id": "6e4cba12",
   "metadata": {},
   "outputs": [
    {
     "data": {
      "text/html": [
       "<ol class=list-inline>\n",
       "\t<li>'5'</li>\n",
       "\t<li>'7'</li>\n",
       "</ol>\n"
      ],
      "text/latex": [
       "\\begin{enumerate*}\n",
       "\\item '5'\n",
       "\\item '7'\n",
       "\\end{enumerate*}\n"
      ],
      "text/markdown": [
       "1. '5'\n",
       "2. '7'\n",
       "\n",
       "\n"
      ],
      "text/plain": [
       "[1] \"5\" \"7\""
      ]
     },
     "metadata": {},
     "output_type": "display_data"
    }
   ],
   "source": [
    "res2<-rstandard(model_ver)\n",
    "ind<-which(abs(res2)>1.96)\n",
    "rownames(datos2[ind,])"
   ]
  },
  {
   "cell_type": "code",
   "execution_count": 47,
   "id": "7a0f63b9",
   "metadata": {},
   "outputs": [
    {
     "data": {
      "text/html": [
       "BRA\n",
       "<details>\n",
       "\t<summary style=display:list-item;cursor:pointer>\n",
       "\t\t<strong>Levels</strong>:\n",
       "\t</summary>\n",
       "\t<ol class=list-inline>\n",
       "\t\t<li>'ARG'</li>\n",
       "\t\t<li>'AUS'</li>\n",
       "\t\t<li>'AUT'</li>\n",
       "\t\t<li>'BEL'</li>\n",
       "\t\t<li>'BRA'</li>\n",
       "\t\t<li>'CAN'</li>\n",
       "\t\t<li>'CHE'</li>\n",
       "\t\t<li>'COL'</li>\n",
       "\t\t<li>'CRI'</li>\n",
       "\t\t<li>'DEU'</li>\n",
       "\t\t<li>'DNK'</li>\n",
       "\t\t<li>'ESP'</li>\n",
       "\t\t<li>'EST'</li>\n",
       "\t\t<li>'FIN'</li>\n",
       "\t\t<li>'FRA'</li>\n",
       "\t\t<li>'GRC'</li>\n",
       "\t\t<li>'HUN'</li>\n",
       "\t\t<li>'IRL'</li>\n",
       "\t\t<li>'ISL'</li>\n",
       "\t\t<li>'ISR'</li>\n",
       "\t\t<li>'ITA'</li>\n",
       "\t\t<li>'JPN'</li>\n",
       "\t\t<li>'KOR'</li>\n",
       "\t\t<li>'LTU'</li>\n",
       "\t\t<li>'LUX'</li>\n",
       "\t\t<li>'LVA'</li>\n",
       "\t\t<li>'MEX'</li>\n",
       "\t\t<li>'NLD'</li>\n",
       "\t\t<li>'NOR'</li>\n",
       "\t\t<li>'NZL'</li>\n",
       "\t\t<li>'POL'</li>\n",
       "\t\t<li>'PRT'</li>\n",
       "\t\t<li>'RUS'</li>\n",
       "\t\t<li>'SVK'</li>\n",
       "\t\t<li>'SVN'</li>\n",
       "\t\t<li>'SWE'</li>\n",
       "\t\t<li>'TUR'</li>\n",
       "\t\t<li>'ZAF'</li>\n",
       "\t</ol>\n",
       "</details>"
      ],
      "text/latex": [
       "BRA\n",
       "\\emph{Levels}: \\begin{enumerate*}\n",
       "\\item 'ARG'\n",
       "\\item 'AUS'\n",
       "\\item 'AUT'\n",
       "\\item 'BEL'\n",
       "\\item 'BRA'\n",
       "\\item 'CAN'\n",
       "\\item 'CHE'\n",
       "\\item 'COL'\n",
       "\\item 'CRI'\n",
       "\\item 'DEU'\n",
       "\\item 'DNK'\n",
       "\\item 'ESP'\n",
       "\\item 'EST'\n",
       "\\item 'FIN'\n",
       "\\item 'FRA'\n",
       "\\item 'GRC'\n",
       "\\item 'HUN'\n",
       "\\item 'IRL'\n",
       "\\item 'ISL'\n",
       "\\item 'ISR'\n",
       "\\item 'ITA'\n",
       "\\item 'JPN'\n",
       "\\item 'KOR'\n",
       "\\item 'LTU'\n",
       "\\item 'LUX'\n",
       "\\item 'LVA'\n",
       "\\item 'MEX'\n",
       "\\item 'NLD'\n",
       "\\item 'NOR'\n",
       "\\item 'NZL'\n",
       "\\item 'POL'\n",
       "\\item 'PRT'\n",
       "\\item 'RUS'\n",
       "\\item 'SVK'\n",
       "\\item 'SVN'\n",
       "\\item 'SWE'\n",
       "\\item 'TUR'\n",
       "\\item 'ZAF'\n",
       "\\end{enumerate*}\n"
      ],
      "text/markdown": [
       "BRA\n",
       "**Levels**: 1. 'ARG'\n",
       "2. 'AUS'\n",
       "3. 'AUT'\n",
       "4. 'BEL'\n",
       "5. 'BRA'\n",
       "6. 'CAN'\n",
       "7. 'CHE'\n",
       "8. 'COL'\n",
       "9. 'CRI'\n",
       "10. 'DEU'\n",
       "11. 'DNK'\n",
       "12. 'ESP'\n",
       "13. 'EST'\n",
       "14. 'FIN'\n",
       "15. 'FRA'\n",
       "16. 'GRC'\n",
       "17. 'HUN'\n",
       "18. 'IRL'\n",
       "19. 'ISL'\n",
       "20. 'ISR'\n",
       "21. 'ITA'\n",
       "22. 'JPN'\n",
       "23. 'KOR'\n",
       "24. 'LTU'\n",
       "25. 'LUX'\n",
       "26. 'LVA'\n",
       "27. 'MEX'\n",
       "28. 'NLD'\n",
       "29. 'NOR'\n",
       "30. 'NZL'\n",
       "31. 'POL'\n",
       "32. 'PRT'\n",
       "33. 'RUS'\n",
       "34. 'SVK'\n",
       "35. 'SVN'\n",
       "36. 'SWE'\n",
       "37. 'TUR'\n",
       "38. 'ZAF'\n",
       "\n",
       "\n"
      ],
      "text/plain": [
       "[1] BRA\n",
       "38 Levels: ARG AUS AUT BEL BRA CAN CHE COL CRI DEU DNK ESP EST FIN FRA ... ZAF"
      ]
     },
     "metadata": {},
     "output_type": "display_data"
    }
   ],
   "source": [
    "datos[5,1] #Corresponde a AUS (Australia o Austria ?)"
   ]
  },
  {
   "cell_type": "code",
   "execution_count": 48,
   "id": "952b7f2b",
   "metadata": {},
   "outputs": [
    {
     "data": {
      "text/html": [
       "CHE\n",
       "<details>\n",
       "\t<summary style=display:list-item;cursor:pointer>\n",
       "\t\t<strong>Levels</strong>:\n",
       "\t</summary>\n",
       "\t<ol class=list-inline>\n",
       "\t\t<li>'ARG'</li>\n",
       "\t\t<li>'AUS'</li>\n",
       "\t\t<li>'AUT'</li>\n",
       "\t\t<li>'BEL'</li>\n",
       "\t\t<li>'BRA'</li>\n",
       "\t\t<li>'CAN'</li>\n",
       "\t\t<li>'CHE'</li>\n",
       "\t\t<li>'COL'</li>\n",
       "\t\t<li>'CRI'</li>\n",
       "\t\t<li>'DEU'</li>\n",
       "\t\t<li>'DNK'</li>\n",
       "\t\t<li>'ESP'</li>\n",
       "\t\t<li>'EST'</li>\n",
       "\t\t<li>'FIN'</li>\n",
       "\t\t<li>'FRA'</li>\n",
       "\t\t<li>'GRC'</li>\n",
       "\t\t<li>'HUN'</li>\n",
       "\t\t<li>'IRL'</li>\n",
       "\t\t<li>'ISL'</li>\n",
       "\t\t<li>'ISR'</li>\n",
       "\t\t<li>'ITA'</li>\n",
       "\t\t<li>'JPN'</li>\n",
       "\t\t<li>'KOR'</li>\n",
       "\t\t<li>'LTU'</li>\n",
       "\t\t<li>'LUX'</li>\n",
       "\t\t<li>'LVA'</li>\n",
       "\t\t<li>'MEX'</li>\n",
       "\t\t<li>'NLD'</li>\n",
       "\t\t<li>'NOR'</li>\n",
       "\t\t<li>'NZL'</li>\n",
       "\t\t<li>'POL'</li>\n",
       "\t\t<li>'PRT'</li>\n",
       "\t\t<li>'RUS'</li>\n",
       "\t\t<li>'SVK'</li>\n",
       "\t\t<li>'SVN'</li>\n",
       "\t\t<li>'SWE'</li>\n",
       "\t\t<li>'TUR'</li>\n",
       "\t\t<li>'ZAF'</li>\n",
       "\t</ol>\n",
       "</details>"
      ],
      "text/latex": [
       "CHE\n",
       "\\emph{Levels}: \\begin{enumerate*}\n",
       "\\item 'ARG'\n",
       "\\item 'AUS'\n",
       "\\item 'AUT'\n",
       "\\item 'BEL'\n",
       "\\item 'BRA'\n",
       "\\item 'CAN'\n",
       "\\item 'CHE'\n",
       "\\item 'COL'\n",
       "\\item 'CRI'\n",
       "\\item 'DEU'\n",
       "\\item 'DNK'\n",
       "\\item 'ESP'\n",
       "\\item 'EST'\n",
       "\\item 'FIN'\n",
       "\\item 'FRA'\n",
       "\\item 'GRC'\n",
       "\\item 'HUN'\n",
       "\\item 'IRL'\n",
       "\\item 'ISL'\n",
       "\\item 'ISR'\n",
       "\\item 'ITA'\n",
       "\\item 'JPN'\n",
       "\\item 'KOR'\n",
       "\\item 'LTU'\n",
       "\\item 'LUX'\n",
       "\\item 'LVA'\n",
       "\\item 'MEX'\n",
       "\\item 'NLD'\n",
       "\\item 'NOR'\n",
       "\\item 'NZL'\n",
       "\\item 'POL'\n",
       "\\item 'PRT'\n",
       "\\item 'RUS'\n",
       "\\item 'SVK'\n",
       "\\item 'SVN'\n",
       "\\item 'SWE'\n",
       "\\item 'TUR'\n",
       "\\item 'ZAF'\n",
       "\\end{enumerate*}\n"
      ],
      "text/markdown": [
       "CHE\n",
       "**Levels**: 1. 'ARG'\n",
       "2. 'AUS'\n",
       "3. 'AUT'\n",
       "4. 'BEL'\n",
       "5. 'BRA'\n",
       "6. 'CAN'\n",
       "7. 'CHE'\n",
       "8. 'COL'\n",
       "9. 'CRI'\n",
       "10. 'DEU'\n",
       "11. 'DNK'\n",
       "12. 'ESP'\n",
       "13. 'EST'\n",
       "14. 'FIN'\n",
       "15. 'FRA'\n",
       "16. 'GRC'\n",
       "17. 'HUN'\n",
       "18. 'IRL'\n",
       "19. 'ISL'\n",
       "20. 'ISR'\n",
       "21. 'ITA'\n",
       "22. 'JPN'\n",
       "23. 'KOR'\n",
       "24. 'LTU'\n",
       "25. 'LUX'\n",
       "26. 'LVA'\n",
       "27. 'MEX'\n",
       "28. 'NLD'\n",
       "29. 'NOR'\n",
       "30. 'NZL'\n",
       "31. 'POL'\n",
       "32. 'PRT'\n",
       "33. 'RUS'\n",
       "34. 'SVK'\n",
       "35. 'SVN'\n",
       "36. 'SWE'\n",
       "37. 'TUR'\n",
       "38. 'ZAF'\n",
       "\n",
       "\n"
      ],
      "text/plain": [
       "[1] CHE\n",
       "38 Levels: ARG AUS AUT BEL BRA CAN CHE COL CRI DEU DNK ESP EST FIN FRA ... ZAF"
      ]
     },
     "metadata": {},
     "output_type": "display_data"
    }
   ],
   "source": [
    "datos[7,1]"
   ]
  },
  {
   "cell_type": "markdown",
   "id": "d95d29db",
   "metadata": {},
   "source": [
    "Por tanto el punto 2 (AUS) provocará un apalancamiento en nuestro modelo y además es un punto atípico. Vamos a eliminarlo de nuestro modelo. "
   ]
  },
  {
   "cell_type": "code",
   "execution_count": 76,
   "id": "8382d702",
   "metadata": {},
   "outputs": [
    {
     "name": "stdout",
     "output_type": "stream",
     "text": [
      "'data.frame':\t32 obs. of  14 variables:\n",
      " $ BUPPSRY.level      : num  36.36 14.7 21.77 46.95 8.38 ...\n",
      " $ BUPPSRY.spend      : num  36.36 14.7 21.77 46.95 8.38 ...\n",
      " $ TRY.spend          : num  35.7 32.7 40.6 18.4 57.9 ...\n",
      " $ TRY_MEN.spend      : num  31.3 33.7 36.9 15.6 51.3 ...\n",
      " $ TRY_WOMEN.spend    : num  39.5 31.8 44.3 21 64.4 ...\n",
      " $ UPPSRY_MEN.spend   : num  28.8 55 40.4 34.1 38.9 ...\n",
      " $ UPPSRY_WOMEN.spend : num  27.2 50.2 34.8 35 28.6 ...\n",
      " $ C02                : num  4.08 7.49 8.73 2.31 15.63 ...\n",
      " $ sagree.effective   : num  0.73 0.449 0.502 0.575 0.578 ...\n",
      " $ sagree.important   : num  0.938 0.586 0.669 0.84 0.756 ...\n",
      " $ sagree.safe        : num  0.766 0.363 0.394 0.615 0.531 ...\n",
      " $ sdisagree.effective: num  0.00832 0.03185 0.03093 0.01263 0.01523 ...\n",
      " $ sdisagree.important: num  0.00624 0.05414 0.02268 0.00211 0.0203 ...\n",
      " $ sdisagree.safe     : num  0.0135 0.0589 0.066 0.0147 0.0284 ...\n"
     ]
    }
   ],
   "source": [
    "datos_new<-datos2[c(-2,-23,-19,-14,-8),]\n",
    "str(datos_new)"
   ]
  },
  {
   "cell_type": "code",
   "execution_count": 77,
   "id": "b2a40b2b",
   "metadata": {},
   "outputs": [
    {
     "name": "stderr",
     "output_type": "stream",
     "text": [
      "Warning message in summary.lm(modelo_new):\n",
      "“essentially perfect fit: summary may be unreliable”"
     ]
    },
    {
     "data": {
      "text/plain": [
       "\n",
       "Call:\n",
       "lm(formula = BUPPSRY.level ~ sagree.effective + UPPSRY_WOMEN.spend + \n",
       "    TRY.spend + UPPSRY_MEN.spend + C02 + BUPPSRY.spend, data = datos_new)\n",
       "\n",
       "Residuals:\n",
       "       Min         1Q     Median         3Q        Max \n",
       "-8.344e-18 -2.163e-18 -2.523e-19  1.500e-18  1.001e-17 \n",
       "\n",
       "Coefficients:\n",
       "                    Estimate Std. Error   t value Pr(>|t|)    \n",
       "(Intercept)        0.000e+00  9.006e-16 0.000e+00        1    \n",
       "sagree.effective   0.000e+00  6.974e-18 0.000e+00        1    \n",
       "UPPSRY_WOMEN.spend 0.000e+00  4.507e-18 0.000e+00        1    \n",
       "TRY.spend          0.000e+00  8.984e-18 0.000e+00        1    \n",
       "UPPSRY_MEN.spend   0.000e+00  4.503e-18 0.000e+00        1    \n",
       "C02                0.000e+00  2.641e-19 0.000e+00        1    \n",
       "BUPPSRY.spend      1.000e+00  9.003e-18 1.111e+17   <2e-16 ***\n",
       "---\n",
       "Signif. codes:  0 ‘***’ 0.001 ‘**’ 0.01 ‘*’ 0.05 ‘.’ 0.1 ‘ ’ 1\n",
       "\n",
       "Residual standard error: 4.056e-18 on 25 degrees of freedom\n",
       "Multiple R-squared:      1,\tAdjusted R-squared:      1 \n",
       "F-statistic: 9.387e+37 on 6 and 25 DF,  p-value: < 2.2e-16\n"
      ]
     },
     "metadata": {},
     "output_type": "display_data"
    }
   ],
   "source": [
    "modelo_new<-lm(BUPPSRY.level~sagree.effective+UPPSRY_WOMEN.spend+TRY.spend+UPPSRY_MEN.spend+C02+BUPPSRY.spend,\n",
    "             data=datos_new)\n",
    "summary(modelo_new)"
   ]
  },
  {
   "cell_type": "code",
   "execution_count": 109,
   "id": "c59f6023",
   "metadata": {},
   "outputs": [
    {
     "data": {
      "text/html": [
       "<strong>pdf:</strong> 2"
      ],
      "text/latex": [
       "\\textbf{pdf:} 2"
      ],
      "text/markdown": [
       "**pdf:** 2"
      ],
      "text/plain": [
       "pdf \n",
       "  2 "
      ]
     },
     "metadata": {},
     "output_type": "display_data"
    }
   ],
   "source": [
    "png(\"plot_fit.png\", width=700, height=700)\n",
    "par(mfrow=c(2,2))\n",
    "plot(modelo_new)\n",
    "par(mfrow=c(1,1))\n",
    "dev.off()"
   ]
  },
  {
   "cell_type": "markdown",
   "id": "3326cb9e",
   "metadata": {},
   "source": [
    "Primer gráfico: Validación del modelo, al estar cerca del 0 no hay discrepancia entre la variable respuesta y el modelo (escala pequeña)\n",
    "\n",
    "Segundo gráfico: Si están cerca de la recta\n",
    "\n",
    "Tercer gráfico: La nube de puntos no sigue una tendencia, de lo contrario sería heterocedástico. "
   ]
  },
  {
   "cell_type": "code",
   "execution_count": 79,
   "id": "a86dec08",
   "metadata": {},
   "outputs": [
    {
     "data": {
      "text/plain": [
       "\n",
       "\tstudentized Breusch-Pagan test\n",
       "\n",
       "data:  modelo_new\n",
       "BP = 6.7452, df = 6, p-value = 0.3451\n"
      ]
     },
     "metadata": {},
     "output_type": "display_data"
    }
   ],
   "source": [
    "#Homocedástico\n",
    "\n",
    "#H_0: \"varianza igual para todo x\"\n",
    "#H_a: \"Varianza depende de cada x\"\n",
    "\n",
    "bptest(modelo_new)\n",
    "\n",
    "#No tenemos pruebas significativas en contra de nuestra hipótesis nula, afirmamo que el modelo es homocedástico"
   ]
  },
  {
   "cell_type": "code",
   "execution_count": 80,
   "id": "2325d394",
   "metadata": {},
   "outputs": [
    {
     "data": {
      "text/plain": [
       "\n",
       "\tShapiro-Wilk normality test\n",
       "\n",
       "data:  res_new\n",
       "W = 0.9623, p-value = 0.3172\n"
      ]
     },
     "metadata": {},
     "output_type": "display_data"
    }
   ],
   "source": [
    "#Normal\n",
    "\n",
    "#H_0: \"Errores normales\"\n",
    "#H_a: \"Errores no normales\"\n",
    "res_new<-rstandard(modelo_new)\n",
    "shapiro.test(res_new)\n",
    "#Sí"
   ]
  },
  {
   "cell_type": "code",
   "execution_count": 81,
   "id": "13cab276",
   "metadata": {},
   "outputs": [
    {
     "data": {
      "text/plain": [
       "\n",
       "\tHarvey-Collier test\n",
       "\n",
       "data:  modelo_new\n",
       "HC = 1.8029, df = 24, p-value = 0.08398\n"
      ]
     },
     "metadata": {},
     "output_type": "display_data"
    }
   ],
   "source": [
    "#Lineal\n",
    "#H_0: \"Modelo lineal\"\n",
    "#H_a: \"Errores no lineal y siempre convexo o concavo\"\n",
    "\n",
    "harvtest(modelo_new)\n"
   ]
  },
  {
   "cell_type": "markdown",
   "id": "eb5761b7",
   "metadata": {},
   "source": [
    "A un nivel de siginificación del 5% no es lineal, pero si al 10%. "
   ]
  }
 ],
 "metadata": {
  "kernelspec": {
   "display_name": "R",
   "language": "R",
   "name": "ir"
  },
  "language_info": {
   "codemirror_mode": "r",
   "file_extension": ".r",
   "mimetype": "text/x-r-source",
   "name": "R",
   "pygments_lexer": "r",
   "version": "3.6.1"
  }
 },
 "nbformat": 4,
 "nbformat_minor": 5
}
