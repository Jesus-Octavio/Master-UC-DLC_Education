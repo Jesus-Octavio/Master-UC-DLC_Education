{
 "cells": [
  {
   "cell_type": "code",
   "execution_count": 1,
   "id": "11fb8602",
   "metadata": {},
   "outputs": [],
   "source": [
    "import requests\n",
    "import json"
   ]
  },
  {
   "cell_type": "markdown",
   "id": "82b1aeb7",
   "metadata": {},
   "source": [
    "* Vacunas: https://www.thelancet.com/journals/lancet/article/PIIS0140-6736(20)31558-0/fulltext"
   ]
  },
  {
   "cell_type": "code",
   "execution_count": 2,
   "id": "6a6b4ca4",
   "metadata": {},
   "outputs": [],
   "source": [
    "url_vac=\"https://doi.org/10.1016/S0140-6736(20)31558-0\""
   ]
  },
  {
   "cell_type": "code",
   "execution_count": 4,
   "id": "96dac03f",
   "metadata": {},
   "outputs": [],
   "source": [
    "headers = {'Accept': 'application/json'} #Type of response accpeted\n",
    "\n",
    "r_vac = requests.get(url_vac, headers=headers) \n",
    "\n",
    "data_vac=json.loads(r_vac.text)\n"
   ]
  },
  {
   "cell_type": "code",
   "execution_count": 5,
   "id": "27829ba9",
   "metadata": {},
   "outputs": [
    {
     "name": "stdout",
     "output_type": "stream",
     "text": [
      "200\n"
     ]
    }
   ],
   "source": [
    "print(r_vac.status_code)"
   ]
  },
  {
   "cell_type": "code",
   "execution_count": 12,
   "id": "3b4f617a",
   "metadata": {},
   "outputs": [
    {
     "data": {
      "text/plain": [
       "'http://dx.doi.org/10.1016/S0140-6736(20)31558-0'"
      ]
     },
     "execution_count": 12,
     "metadata": {},
     "output_type": "execute_result"
    }
   ],
   "source": [
    "data_vac['URL']"
   ]
  },
  {
   "cell_type": "code",
   "execution_count": 9,
   "id": "c8064f9f",
   "metadata": {},
   "outputs": [
    {
     "name": "stdout",
     "output_type": "stream",
     "text": [
      "indexed\n",
      "reference-count\n",
      "publisher\n",
      "issue\n",
      "license\n",
      "content-domain\n",
      "published-print\n",
      "DOI\n",
      "type\n",
      "created\n",
      "page\n",
      "update-policy\n",
      "source\n",
      "is-referenced-by-count\n",
      "title\n",
      "prefix\n",
      "volume\n",
      "author\n",
      "member\n",
      "reference\n",
      "container-title\n",
      "original-title\n",
      "language\n",
      "link\n",
      "deposited\n",
      "score\n",
      "subtitle\n",
      "short-title\n",
      "issued\n",
      "references-count\n",
      "journal-issue\n",
      "alternative-id\n",
      "URL\n",
      "relation\n",
      "ISSN\n",
      "subject\n",
      "container-title-short\n",
      "published\n",
      "assertion\n"
     ]
    }
   ],
   "source": [
    "for ele in data_vac:\n",
    "    print(ele)"
   ]
  },
  {
   "cell_type": "code",
   "execution_count": 6,
   "id": "24e03339",
   "metadata": {},
   "outputs": [
    {
     "name": "stdout",
     "output_type": "stream",
     "text": [
      "Title:  Mapping global trends in vaccine confidence and investigating barriers to vaccine uptake: a large-scale retrospective temporal modelling study\n",
      "Authors:  Alexandre de Figueiredo\n",
      "Authors:  Clarissa de Figueiredo\n",
      "Authors:  Emilie de Figueiredo\n",
      "Authors:  Pauline de Figueiredo\n",
      "Authors:  Heidi J de Figueiredo\n",
      "Type:  journal-article\n",
      "Publisher:  Elsevier BV\n",
      "Source:  Crossref\n",
      "Volumen:  396\n",
      "Subjects:  General Medicine\n",
      "Language:  en\n",
      "Release date:  2020 - 9\n",
      "URL:  http://dx.doi.org/10.1016/S0140-6736(20)31558-0\n"
     ]
    }
   ],
   "source": [
    "print('Title: ',data_vac['title'])\n",
    "\n",
    "for i in range(0,len(data_vac['author'])):\n",
    "    print('Authors: ',data_vac['author'][i]['given'],data_vac['author'][0]['family'])\n",
    "print('Type: ',data_vac['type'])\n",
    "print('Publisher: ', data_vac['publisher'])    \n",
    "print('Source: ',data_vac['source']) \n",
    "print('Volumen: ', data_vac['volume']) \n",
    "print('Subjects: ',', ' .join(data_vac['subject']))\n",
    "print('Language: ',data_vac['language'])\n",
    "print('Release date: ',data_vac['published']['date-parts'][0][0],'-',data_vac['published']['date-parts'][0][1])\n",
    "print('URL: ',data_vac['URL'])\n"
   ]
  }
 ],
 "metadata": {
  "kernelspec": {
   "display_name": "Python 3 (ipykernel)",
   "language": "python",
   "name": "python3"
  },
  "language_info": {
   "codemirror_mode": {
    "name": "ipython",
    "version": 3
   },
   "file_extension": ".py",
   "mimetype": "text/x-python",
   "name": "python",
   "nbconvert_exporter": "python",
   "pygments_lexer": "ipython3",
   "version": "3.9.7"
  }
 },
 "nbformat": 4,
 "nbformat_minor": 5
}
